{
  "nbformat": 4,
  "nbformat_minor": 0,
  "metadata": {
    "colab": {
      "provenance": [],
      "authorship_tag": "ABX9TyNjKx96zRkVCaVmXzLrZihj",
      "include_colab_link": true
    },
    "kernelspec": {
      "name": "python3",
      "display_name": "Python 3"
    },
    "language_info": {
      "name": "python"
    }
  },
  "cells": [
    {
      "cell_type": "markdown",
      "metadata": {
        "id": "view-in-github",
        "colab_type": "text"
      },
      "source": [
        "<a href=\"https://colab.research.google.com/github/minayil/hu-bby261-2024/blob/main/jelibonFabrikas%C4%B1.ipynb\" target=\"_parent\"><img src=\"https://colab.research.google.com/assets/colab-badge.svg\" alt=\"Open In Colab\"/></a>"
      ]
    },
    {
      "cell_type": "code",
      "execution_count": 30,
      "metadata": {
        "id": "oCelg1mpFCzn"
      },
      "outputs": [],
      "source": [
        "class Jelibon:\n",
        "  renk = \"mavi\"\n",
        "  tat = \"yaban mersini\"\n",
        "  şekil = \"yuvarlak\"\n",
        "  def __init__(self):\n",
        "    print(\"Bu jelibon %s renkli, %s tadında ve %s şeklindedir.\" % (self.renk,self.tat,self.şekil))\n"
      ]
    },
    {
      "cell_type": "code",
      "source": [
        "jelibon = Jelibon()"
      ],
      "metadata": {
        "colab": {
          "base_uri": "https://localhost:8080/"
        },
        "id": "jcgHW4lwKhee",
        "outputId": "9b24681b-582b-40ed-b109-92bac852dc96"
      },
      "execution_count": 31,
      "outputs": [
        {
          "output_type": "stream",
          "name": "stdout",
          "text": [
            "Bu jelibon mavi renkli, yaban mersini tadında ve yuvarlak şeklindedir.\n"
          ]
        }
      ]
    }
  ]
}