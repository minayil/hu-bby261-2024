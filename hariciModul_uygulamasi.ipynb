{
  "nbformat": 4,
  "nbformat_minor": 0,
  "metadata": {
    "colab": {
      "provenance": [],
      "authorship_tag": "ABX9TyPNMX/rl2mfbUGuR5JI7SaV",
      "include_colab_link": true
    },
    "kernelspec": {
      "name": "python3",
      "display_name": "Python 3"
    },
    "language_info": {
      "name": "python"
    }
  },
  "cells": [
    {
      "cell_type": "markdown",
      "metadata": {
        "id": "view-in-github",
        "colab_type": "text"
      },
      "source": [
        "<a href=\"https://colab.research.google.com/github/minayil/hu-bby261-2024/blob/main/hariciModul_uygulamasi.ipynb\" target=\"_parent\"><img src=\"https://colab.research.google.com/assets/colab-badge.svg\" alt=\"Open In Colab\"/></a>"
      ]
    },
    {
      "cell_type": "code",
      "execution_count": 1,
      "metadata": {
        "id": "uojyIjstdTOX",
        "colab": {
          "base_uri": "https://localhost:8080/"
        },
        "outputId": "1e3c122f-6a03-4592-f95f-5edd99b17d55"
      },
      "outputs": [
        {
          "output_type": "stream",
          "name": "stdout",
          "text": [
            "Kütüphane 01\n"
          ]
        }
      ],
      "source": [
        "import sys\n",
        "sys.path.append('/content/drive/MyDrive')\n",
        "\n",
        "import kutuphane01\n",
        "benimKutuphanem = kutuphane01.Kut01\n",
        "print(benimKutuphanem.kut01Degisken)"
      ]
    },
    {
      "cell_type": "code",
      "source": [
        "##MyDrive klasöründe kutuphane01.py adlı bir klasör oluşturdum.\n",
        "##Bu klasörün içine öys'deki birinci kod setini koydum.\n",
        "##ikinci kod setini colab'e yapıştırdım.\n",
        "##dosya yolunu yapıştırıp çalıştırdım."
      ],
      "metadata": {
        "id": "TZ5hYT_BgUJV"
      },
      "execution_count": null,
      "outputs": []
    }
  ]
}